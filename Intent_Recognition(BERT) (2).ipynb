{
  "cells": [
    {
      "cell_type": "code",
      "execution_count": null,
      "id": "8ywMLQrG70bY",
      "metadata": {
        "colab": {
          "base_uri": "https://localhost:8080/"
        },
        "id": "8ywMLQrG70bY",
        "outputId": "fa6c93cb-3635-43cb-ec62-fc314d11a7db"
      },
      "outputs": [
        {
          "output_type": "stream",
          "name": "stdout",
          "text": [
            "Requirement already satisfied: transformers in /usr/local/lib/python3.10/dist-packages (4.44.2)\n",
            "Requirement already satisfied: filelock in /usr/local/lib/python3.10/dist-packages (from transformers) (3.16.1)\n",
            "Requirement already satisfied: huggingface-hub<1.0,>=0.23.2 in /usr/local/lib/python3.10/dist-packages (from transformers) (0.24.7)\n",
            "Requirement already satisfied: numpy>=1.17 in /usr/local/lib/python3.10/dist-packages (from transformers) (1.26.4)\n",
            "Requirement already satisfied: packaging>=20.0 in /usr/local/lib/python3.10/dist-packages (from transformers) (24.1)\n",
            "Requirement already satisfied: pyyaml>=5.1 in /usr/local/lib/python3.10/dist-packages (from transformers) (6.0.2)\n",
            "Requirement already satisfied: regex!=2019.12.17 in /usr/local/lib/python3.10/dist-packages (from transformers) (2024.9.11)\n",
            "Requirement already satisfied: requests in /usr/local/lib/python3.10/dist-packages (from transformers) (2.32.3)\n",
            "Requirement already satisfied: safetensors>=0.4.1 in /usr/local/lib/python3.10/dist-packages (from transformers) (0.4.5)\n",
            "Requirement already satisfied: tokenizers<0.20,>=0.19 in /usr/local/lib/python3.10/dist-packages (from transformers) (0.19.1)\n",
            "Requirement already satisfied: tqdm>=4.27 in /usr/local/lib/python3.10/dist-packages (from transformers) (4.66.5)\n",
            "Requirement already satisfied: fsspec>=2023.5.0 in /usr/local/lib/python3.10/dist-packages (from huggingface-hub<1.0,>=0.23.2->transformers) (2024.6.1)\n",
            "Requirement already satisfied: typing-extensions>=3.7.4.3 in /usr/local/lib/python3.10/dist-packages (from huggingface-hub<1.0,>=0.23.2->transformers) (4.12.2)\n",
            "Requirement already satisfied: charset-normalizer<4,>=2 in /usr/local/lib/python3.10/dist-packages (from requests->transformers) (3.3.2)\n",
            "Requirement already satisfied: idna<4,>=2.5 in /usr/local/lib/python3.10/dist-packages (from requests->transformers) (3.10)\n",
            "Requirement already satisfied: urllib3<3,>=1.21.1 in /usr/local/lib/python3.10/dist-packages (from requests->transformers) (2.2.3)\n",
            "Requirement already satisfied: certifi>=2017.4.17 in /usr/local/lib/python3.10/dist-packages (from requests->transformers) (2024.8.30)\n"
          ]
        }
      ],
      "source": [
        "pip install transformers"
      ]
    },
    {
      "cell_type": "code",
      "execution_count": null,
      "id": "xzgiAqME76fr",
      "metadata": {
        "colab": {
          "base_uri": "https://localhost:8080/"
        },
        "id": "xzgiAqME76fr",
        "outputId": "fefdc02b-a1db-495a-c21f-7c923ad81df5"
      },
      "outputs": [
        {
          "output_type": "stream",
          "name": "stdout",
          "text": [
            "Requirement already satisfied: seqeval in /usr/local/lib/python3.10/dist-packages (1.2.2)\n",
            "Requirement already satisfied: numpy>=1.14.0 in /usr/local/lib/python3.10/dist-packages (from seqeval) (1.26.4)\n",
            "Requirement already satisfied: scikit-learn>=0.21.3 in /usr/local/lib/python3.10/dist-packages (from seqeval) (1.5.2)\n",
            "Requirement already satisfied: scipy>=1.6.0 in /usr/local/lib/python3.10/dist-packages (from scikit-learn>=0.21.3->seqeval) (1.13.1)\n",
            "Requirement already satisfied: joblib>=1.2.0 in /usr/local/lib/python3.10/dist-packages (from scikit-learn>=0.21.3->seqeval) (1.4.2)\n",
            "Requirement already satisfied: threadpoolctl>=3.1.0 in /usr/local/lib/python3.10/dist-packages (from scikit-learn>=0.21.3->seqeval) (3.5.0)\n"
          ]
        }
      ],
      "source": [
        "pip install seqeval"
      ]
    },
    {
      "cell_type": "code",
      "execution_count": null,
      "id": "a14a95a9",
      "metadata": {
        "id": "a14a95a9"
      },
      "outputs": [],
      "source": [
        "import json\n",
        "import pickle\n",
        "import time\n",
        "import datetime\n",
        "import random\n",
        "import os\n",
        "import csv\n",
        "\n",
        "import numpy as np\n",
        "import pandas as pd\n",
        "from tqdm.notebook import tqdm\n",
        "import torch\n",
        "from torch.utils.data import TensorDataset, random_split\n",
        "from torch.utils.data import DataLoader, RandomSampler, SequentialSampler\n",
        "from transformers import BertTokenizer\n",
        "from transformers import BertForSequenceClassification, AdamW, BertConfig\n",
        "from transformers import get_linear_schedule_with_warmup\n",
        "from seqeval.metrics import f1_score\n",
        "\n",
        "import matplotlib.pyplot as plt\n",
        "\n",
        "device = torch.device(\"cpu\")\n",
        "\n",
        "SEED_VAL = 42\n",
        "\n",
        "random.seed(SEED_VAL)\n",
        "np.random.seed(SEED_VAL)\n",
        "torch.manual_seed(SEED_VAL);  # Semicolon prevents jupyter from displaying last line as output"
      ]
    },
    {
      "cell_type": "code",
      "execution_count": null,
      "id": "9c9d4733",
      "metadata": {
        "id": "9c9d4733"
      },
      "outputs": [],
      "source": [
        "# SNIPS_PATH = \"drive/MyDrive/data/snips\"\n",
        "TRAIN_PATH = \"/content/train.tsv\"\n",
        "VAL_PATH = \"/content/dev.tsv\"\n",
        "TEST_PATH = \"/content/test.tsv\"\n",
        "df = pd.read_csv(TEST_PATH,sep='\\t')\n",
        "\n",
        "def load_snips_file(file_path):\n",
        "    list_pair =[]\n",
        "    with open(file_path,'r',encoding=\"utf8\") as f:\n",
        "        for line in f:\n",
        "            split_line = line.split('\\t')\n",
        "            pair = split_line[0],split_line[1]\n",
        "            list_pair.append(pair)\n",
        "    return list_pair\n"
      ]
    },
    {
      "cell_type": "code",
      "execution_count": null,
      "id": "030ee2ab",
      "metadata": {
        "id": "030ee2ab"
      },
      "outputs": [],
      "source": [
        "all_train_examples = load_snips_file(TRAIN_PATH)\n",
        "valid_examples = load_snips_file(VAL_PATH)\n",
        "test_examples = load_snips_file(TEST_PATH)"
      ]
    },
    {
      "cell_type": "code",
      "source": [
        "len(all_train_examples)"
      ],
      "metadata": {
        "colab": {
          "base_uri": "https://localhost:8080/"
        },
        "id": "7R3_EmE0wrBk",
        "outputId": "4339f7d6-98d1-427a-849a-ca91a12d8162"
      },
      "id": "7R3_EmE0wrBk",
      "execution_count": null,
      "outputs": [
        {
          "output_type": "execute_result",
          "data": {
            "text/plain": [
              "35"
            ]
          },
          "metadata": {},
          "execution_count": 32
        }
      ]
    },
    {
      "cell_type": "code",
      "execution_count": null,
      "id": "c038508f",
      "metadata": {
        "colab": {
          "base_uri": "https://localhost:8080/"
        },
        "id": "c038508f",
        "outputId": "941ad2f4-fe23-47d1-ae43-8c185ff61278"
      },
      "outputs": [
        {
          "output_type": "execute_result",
          "data": {
            "text/plain": [
              "{'Retrieve_Alldeets': 0,\n",
              " 'Retrieve_Author': 1,\n",
              " 'Retrieve_Bench': 2,\n",
              " 'Retrieve_Case': 3,\n",
              " 'Retrieve_Date': 4,\n",
              " 'Retrieve_Statute': 5,\n",
              " 'Retrieve_Verdict': 6}"
            ]
          },
          "metadata": {},
          "execution_count": 33
        }
      ],
      "source": [
        "intents = np.unique(np.array(all_train_examples)[:,0]).tolist()\n",
        "\n",
        "intent_labeltoid = {intents[i]: i  for i in range(len(intents))}\n",
        "intent_labeltoid"
      ]
    },
    {
      "cell_type": "code",
      "execution_count": null,
      "id": "7041c266",
      "metadata": {
        "colab": {
          "base_uri": "https://localhost:8080/",
          "height": 304
        },
        "id": "7041c266",
        "outputId": "3b0de4d3-5aa4-4be3-8450-6e7015f4ed4c"
      },
      "outputs": [
        {
          "output_type": "execute_result",
          "data": {
            "text/plain": [
              "Retrieve_Case        5\n",
              "Retrieve_Statute     5\n",
              "Retrieve_Date        5\n",
              "Retrieve_Author      5\n",
              "Retrieve_Bench       5\n",
              "Retrieve_Verdict     5\n",
              "Retrieve_Alldeets    5\n",
              "Name: count, dtype: int64"
            ],
            "text/html": [
              "<div>\n",
              "<style scoped>\n",
              "    .dataframe tbody tr th:only-of-type {\n",
              "        vertical-align: middle;\n",
              "    }\n",
              "\n",
              "    .dataframe tbody tr th {\n",
              "        vertical-align: top;\n",
              "    }\n",
              "\n",
              "    .dataframe thead th {\n",
              "        text-align: right;\n",
              "    }\n",
              "</style>\n",
              "<table border=\"1\" class=\"dataframe\">\n",
              "  <thead>\n",
              "    <tr style=\"text-align: right;\">\n",
              "      <th></th>\n",
              "      <th>count</th>\n",
              "    </tr>\n",
              "  </thead>\n",
              "  <tbody>\n",
              "    <tr>\n",
              "      <th>Retrieve_Case</th>\n",
              "      <td>5</td>\n",
              "    </tr>\n",
              "    <tr>\n",
              "      <th>Retrieve_Statute</th>\n",
              "      <td>5</td>\n",
              "    </tr>\n",
              "    <tr>\n",
              "      <th>Retrieve_Date</th>\n",
              "      <td>5</td>\n",
              "    </tr>\n",
              "    <tr>\n",
              "      <th>Retrieve_Author</th>\n",
              "      <td>5</td>\n",
              "    </tr>\n",
              "    <tr>\n",
              "      <th>Retrieve_Bench</th>\n",
              "      <td>5</td>\n",
              "    </tr>\n",
              "    <tr>\n",
              "      <th>Retrieve_Verdict</th>\n",
              "      <td>5</td>\n",
              "    </tr>\n",
              "    <tr>\n",
              "      <th>Retrieve_Alldeets</th>\n",
              "      <td>5</td>\n",
              "    </tr>\n",
              "  </tbody>\n",
              "</table>\n",
              "</div><br><label><b>dtype:</b> int64</label>"
            ]
          },
          "metadata": {},
          "execution_count": 34
        }
      ],
      "source": [
        "#How many training examples are there for each intent?\n",
        "intent_series = pd.Series(np.array(all_train_examples)[:,0])\n",
        "intent_series.value_counts()"
      ]
    },
    {
      "cell_type": "code",
      "execution_count": null,
      "id": "915b2cf9",
      "metadata": {
        "id": "915b2cf9"
      },
      "outputs": [],
      "source": [
        "def create_mini_training_set(examples_per_intent):\n",
        "    intent_array = np.array(all_train_examples)[:,0]\n",
        "    mini_batch =[]\n",
        "    for intent in intents:\n",
        "        add = intent_array[intent_array==intent]\n",
        "        shuffled_indicies=np.random.RandomState(seed=42).permutation(len(add))\n",
        "        class_indicies=shuffled_indicies[:examples_per_intent]\n",
        "        sampled_set = np.array(all_train_examples)[class_indicies]\n",
        "        mini_batch.append(sampled_set)\n",
        "    mini_batch = np.array(mini_batch)\n",
        "    mini_set = mini_batch.transpose(1,0,2).reshape(-1,mini_batch.shape[2])\n",
        "    return mini_set"
      ]
    },
    {
      "cell_type": "code",
      "execution_count": null,
      "id": "64326e22",
      "metadata": {
        "id": "64326e22"
      },
      "outputs": [],
      "source": [
        "import re\n",
        "def get_pad_length():\n",
        "    all_train_examples_sentences = np.array(all_train_examples)[:,1]\n",
        "    word_length = []\n",
        "    for sentence in all_train_examples_sentences:\n",
        "        number_words = len(re.findall(r'\\w+',sentence))\n",
        "        word_length.append(number_words)\n",
        "    return max(word_length)\n",
        "\n",
        "PAD_LEN = get_pad_length()"
      ]
    },
    {
      "cell_type": "code",
      "execution_count": null,
      "id": "2016ccc5",
      "metadata": {
        "id": "2016ccc5"
      },
      "outputs": [],
      "source": [
        "INTENT_DIM = 7"
      ]
    },
    {
      "cell_type": "markdown",
      "id": "73b11061",
      "metadata": {
        "id": "73b11061"
      },
      "source": [
        "## BERT Tokenizer\n"
      ]
    },
    {
      "cell_type": "code",
      "execution_count": null,
      "id": "d108a60f",
      "metadata": {
        "colab": {
          "base_uri": "https://localhost:8080/"
        },
        "id": "d108a60f",
        "outputId": "1e74ec1c-4b02-4810-b452-453a3e7ad464"
      },
      "outputs": [
        {
          "output_type": "stream",
          "name": "stdout",
          "text": [
            "{'input_ids': tensor([[  101,  2265, 18574,  8951,  2250,  2262,  8040,  6486,  2692,   102,\n",
            "             0,     0,     0,     0,     0,     0,     0,     0,     0,     0,\n",
            "             0,     0,     0]]), 'token_type_ids': tensor([[0, 0, 0, 0, 0, 0, 0, 0, 0, 0, 0, 0, 0, 0, 0, 0, 0, 0, 0, 0, 0, 0, 0]]), 'attention_mask': tensor([[1, 1, 1, 1, 1, 1, 1, 1, 1, 1, 0, 0, 0, 0, 0, 0, 0, 0, 0, 0, 0, 0, 0]])}\n"
          ]
        },
        {
          "output_type": "stream",
          "name": "stderr",
          "text": [
            "/usr/local/lib/python3.10/dist-packages/transformers/tokenization_utils_base.py:1601: FutureWarning: `clean_up_tokenization_spaces` was not set. It will be set to `True` by default. This behavior will be depracted in transformers v4.45, and will be then set to `False` by default. For more details check this issue: https://github.com/huggingface/transformers/issues/31884\n",
            "  warnings.warn(\n",
            "/usr/local/lib/python3.10/dist-packages/transformers/tokenization_utils_base.py:2870: FutureWarning: The `pad_to_max_length` argument is deprecated and will be removed in a future version, use `padding=True` or `padding='longest'` to pad to the longest sequence in the batch, or use `padding='max_length'` to pad to a max length. In this case, you can give a specific length with `max_length` (e.g. `max_length=45`) or leave max_length to None to pad to the maximal input size of the model (e.g. 512 for Bert).\n",
            "  warnings.warn(\n"
          ]
        }
      ],
      "source": [
        "tokenizer = BertTokenizer.from_pretrained('bert-base-uncased', do_lower_case=True)\n",
        "\n",
        "test_utterance = \"Show statutes citing AIR 2012 SC 890\"\n",
        "\n",
        "print(tokenizer.encode_plus(\n",
        "            test_utterance, add_special_tokens=True, max_length=PAD_LEN, pad_to_max_length=True,\n",
        "            truncation=True, return_attention_mask=True, return_tensors='pt'\n",
        "    ))"
      ]
    },
    {
      "cell_type": "code",
      "execution_count": null,
      "id": "70ed83de",
      "metadata": {
        "id": "70ed83de"
      },
      "outputs": [],
      "source": [
        "def examples_to_dataset(examples):\n",
        "    input_ids = []\n",
        "    attention_masks = []\n",
        "    labels = []\n",
        "    for instance in examples:\n",
        "        token_dict = tokenizer.encode_plus(\n",
        "                instance[1], add_special_tokens=True, max_length=PAD_LEN, pad_to_max_length=True,\n",
        "                truncation=True, return_attention_mask=True, return_tensors='pt')\n",
        "        input_ids.append(token_dict['input_ids'])\n",
        "        attention_masks.append(token_dict['attention_mask'])\n",
        "        labels.append(torch.tensor(intent_labeltoid[instance[0]]).type(torch.LongTensor))\n",
        "\n",
        "    input_ids = torch.cat(input_ids)\n",
        "    attention_masks = torch.cat(attention_masks)\n",
        "    labels = torch.stack(labels)\n",
        "\n",
        "\n",
        "    dataset = TensorDataset(input_ids, attention_masks, labels)\n",
        "\n",
        "    return dataset"
      ]
    },
    {
      "cell_type": "code",
      "execution_count": null,
      "id": "2865fc8b",
      "metadata": {
        "id": "2865fc8b"
      },
      "outputs": [],
      "source": [
        "#prepare the validation/test dataloaders\n",
        "val_dataset = examples_to_dataset(valid_examples)\n",
        "test_dataset = examples_to_dataset(test_examples)\n",
        "BATCH_SIZE = 2\n",
        "validation_dataloader = DataLoader(val_dataset, sampler=RandomSampler(val_dataset), batch_size=BATCH_SIZE)\n",
        "test_dataloader = DataLoader(test_dataset, sampler=SequentialSampler(test_dataset), batch_size=BATCH_SIZE)"
      ]
    },
    {
      "cell_type": "code",
      "execution_count": null,
      "id": "a10532e8",
      "metadata": {
        "id": "a10532e8"
      },
      "outputs": [],
      "source": [
        "def get_accuracy(preds, labels):\n",
        "    pred_convd = np.argmax(preds,1).flatten()\n",
        "    labels_flat = labels.flatten()\n",
        "    correct_labels = np.equal(pred_convd,labels_flat).sum()\n",
        "    accuracy_value = correct_labels/len(labels)\n",
        "    return accuracy_value"
      ]
    },
    {
      "cell_type": "code",
      "execution_count": null,
      "id": "62bd1e14",
      "metadata": {
        "id": "62bd1e14"
      },
      "outputs": [],
      "source": [
        "# Quick tests for the implementation of accuracy.\n",
        "\n",
        "preds1 = np.array([[1,2,3], [1,3,2], [3,2,1]])\n",
        "\n",
        "assert get_accuracy(preds1, np.array([2,1,0])) == 1.0\n",
        "assert get_accuracy(preds1, np.array([2,2,0])) == 2/3\n",
        "assert get_accuracy(preds1, np.array([3,2,1])) == 0.0"
      ]
    },
    {
      "cell_type": "code",
      "execution_count": null,
      "id": "050fce2c",
      "metadata": {
        "colab": {
          "base_uri": "https://localhost:8080/",
          "height": 344,
          "referenced_widgets": [
            "a0c31b5515ce4ab9b62fa6ceff008450",
            "7c995bea8f87423e9487f4ee9c963de5",
            "3317432daaa34c1ea8ad10b293d830ae",
            "446bdc57b9e0467e8b6e53aff856c011",
            "aa0a789f70b74bb68c2c97c4caaade64",
            "da4785763e774ba29a76e6f6a2d14142",
            "c1aab8e1a083451fa2ec138f4ae8fca8",
            "aa893c769b5b4447a4ccb598e7cc3ee9",
            "86efb0b77e2e4a51b50ab2ee2e73ee0f",
            "e42d4ba4265044c58dcc442da38689da",
            "52759b2150e84fc091a33ccce8b20fff"
          ]
        },
        "id": "050fce2c",
        "outputId": "748a3c50-2a68-4bcf-9379-454368ba9ed3"
      },
      "outputs": [
        {
          "output_type": "display_data",
          "data": {
            "text/plain": [
              "  0%|          | 0/21 [00:00<?, ?it/s]"
            ],
            "application/vnd.jupyter.widget-view+json": {
              "version_major": 2,
              "version_minor": 0,
              "model_id": "a0c31b5515ce4ab9b62fa6ceff008450"
            }
          },
          "metadata": {}
        },
        {
          "output_type": "stream",
          "name": "stdout",
          "text": [
            "tensor([[  101,  2424,  3572,  2011,  1054, 14654,   102,     0,     0,     0,\n",
            "             0,     0,     0,     0,     0,     0,     0,     0,     0,     0,\n",
            "             0,     0,     0],\n",
            "        [  101,  2265,  3572,  2007,  1049, 20455,   102,     0,     0,     0,\n",
            "             0,     0,     0,     0,     0,     0,     0,     0,     0,     0,\n",
            "             0,     0,     0]])\n",
            "tensor([[1, 1, 1, 1, 1, 1, 1, 0, 0, 0, 0, 0, 0, 0, 0, 0, 0, 0, 0, 0, 0, 0, 0],\n",
            "        [1, 1, 1, 1, 1, 1, 1, 0, 0, 0, 0, 0, 0, 0, 0, 0, 0, 0, 0, 0, 0, 0, 0]])\n",
            "tensor([3, 3])\n",
            "[tensor([[  101,  2424,  3572,  2011,  1054, 14654,   102,     0,     0,     0,\n",
            "             0,     0,     0,     0,     0,     0,     0,     0,     0,     0,\n",
            "             0,     0,     0],\n",
            "        [  101,  2265,  3572,  2007,  1049, 20455,   102,     0,     0,     0,\n",
            "             0,     0,     0,     0,     0,     0,     0,     0,     0,     0,\n",
            "             0,     0,     0]]), tensor([[1, 1, 1, 1, 1, 1, 1, 0, 0, 0, 0, 0, 0, 0, 0, 0, 0, 0, 0, 0, 0, 0, 0],\n",
            "        [1, 1, 1, 1, 1, 1, 1, 0, 0, 0, 0, 0, 0, 0, 0, 0, 0, 0, 0, 0, 0, 0, 0]]), tensor([3, 3])]\n",
            "21\n"
          ]
        }
      ],
      "source": [
        "count=0\n",
        "for batch in tqdm(list(test_dataloader)):\n",
        "    a,b,c= batch[0],batch[1],batch[2]\n",
        "    count+=1\n",
        "    if count ==1:\n",
        "        break\n",
        "print(a);print(b);print(c)\n",
        "print(batch)\n",
        "print(len(list(test_dataloader)))"
      ]
    },
    {
      "cell_type": "code",
      "source": [
        "import torch\n",
        "import numpy as np\n",
        "from sklearn.metrics import accuracy_score, precision_score, recall_score, f1_score\n",
        "from tqdm import tqdm\n",
        "\n",
        "def evaluate(model, dataloader):\n",
        "    model.eval()\n",
        "\n",
        "    accuracy = []\n",
        "    all_predictions = []\n",
        "    all_true_labels = []\n",
        "\n",
        "    for batch in tqdm(list(dataloader)):\n",
        "        b_input_ids, b_input_mask, b_labels = batch\n",
        "\n",
        "        with torch.no_grad():\n",
        "            (loss, logits) = model(b_input_ids,\n",
        "                                   token_type_ids=None,\n",
        "                                   attention_mask=b_input_mask,\n",
        "                                   labels=b_labels, return_dict=False)\n",
        "\n",
        "        # Move logits and labels to CPU\n",
        "        logits = logits.detach().cpu().numpy()\n",
        "        label_ids = b_labels.to('cpu').numpy()\n",
        "\n",
        "        # Calculate batch accuracy and store it\n",
        "        batch_accuracy = get_accuracy(logits, label_ids)\n",
        "        accuracy.append(batch_accuracy)\n",
        "\n",
        "        # Get predicted labels by taking the argmax of the logits\n",
        "        predictions = np.argmax(logits, axis=1)\n",
        "\n",
        "        # Store all predictions and true labels for precision, recall, F1 calculation\n",
        "        all_predictions.extend(predictions)\n",
        "        all_true_labels.extend(label_ids)\n",
        "\n",
        "    # Compute final accuracy\n",
        "    avg_accuracy = np.mean(accuracy)\n",
        "    print(\"Validation Accuracy: {}\".format(avg_accuracy))\n",
        "\n",
        "    # Compute precision, recall, F1 score using sklearn\n",
        "    precision = precision_score(all_true_labels, all_predictions, average='weighted')\n",
        "    recall = recall_score(all_true_labels, all_predictions, average='weighted')\n",
        "    f1 = f1_score(all_true_labels, all_predictions, average='weighted')\n",
        "\n",
        "    print(f\"Accuracy: {avg_accuracy:.4f}\")\n",
        "    print(f\"Precision: {precision:.4f}\")\n",
        "    print(f\"Recall: {recall:.4f}\")\n",
        "    print(f\"F1 Score: {f1:.4f}\")\n",
        "\n",
        "    return avg_accuracy, precision, recall, f1\n"
      ],
      "metadata": {
        "id": "1o05DfxhGYV6"
      },
      "id": "1o05DfxhGYV6",
      "execution_count": null,
      "outputs": []
    },
    {
      "cell_type": "code",
      "execution_count": null,
      "id": "3317c5eb",
      "metadata": {
        "id": "3317c5eb"
      },
      "outputs": [],
      "source": [
        "\n",
        "def train(model, dataloader, epochs):\n",
        "    optimizer = AdamW(model.parameters(), lr=2e-5, eps=1e-8)\n",
        "    total_steps = len(train_dataloader) * epochs\n",
        "    scheduler = get_linear_schedule_with_warmup(optimizer, num_warmup_steps=0, num_training_steps=total_steps)\n",
        "\n",
        "    for epoch_i in range(0, EPOCHS):\n",
        "        print('======== Epoch {:} / {:} ========'.format(epoch_i + 1, epochs))\n",
        "\n",
        "        model.train()\n",
        "        #n_iteration = 0\n",
        "        accuracy = []\n",
        "        total_train_loss = []\n",
        "\n",
        "        for step, batch in tqdm(list(enumerate(train_dataloader))):\n",
        "            # get input IDs, input mask, and labels from batch\n",
        "            b_input_ids,b_input_mask,b_labels = batch\n",
        "\n",
        "            model.zero_grad()\n",
        "            #pass inputs through model\n",
        "            (loss, logits) = model(b_input_ids,\n",
        "                                   token_type_ids=None,\n",
        "                                   attention_mask=b_input_mask,\n",
        "                                   labels=b_labels, return_dict=False)\n",
        "            logits = logits.detach().cpu().numpy()\n",
        "            label_ids = b_labels.to('cpu').numpy()\n",
        "\n",
        "            loss.backward()\n",
        "            torch.nn.utils.clip_grad_norm_(model.parameters(), 1.0)\n",
        "            optimizer.step()\n",
        "            scheduler.step()\n",
        "            # Add to total_train_loss\n",
        "            total_train_loss.append(loss)\n",
        "            #logit_probability =torch.nn.Softmax(logits)\n",
        "            batch_accuracy = get_accuracy(logits, label_ids)\n",
        "            accuracy.append(batch_accuracy)\n",
        "            #n_iteration += 1\n",
        "        # Compute average train loss\n",
        "        new_loss = [x.cpu().detach().numpy() for x in total_train_loss]\n",
        "        avg_train_loss = np.mean(new_loss)\n",
        "        print(\"  Average training loss: {0:.2f}\".format(avg_train_loss))\n",
        "        print(\"  Average Training accuracy: {0:.2f}\".format(np.mean(accuracy)))\n",
        "    #validation_accuracy =evaluate(bert_model, validation_dataloader)\n",
        "\n"
      ]
    },
    {
      "cell_type": "code",
      "source": [
        "BATCH_SIZE = 16\n",
        "\n",
        "EPOCHS = 5\n",
        "EXAMPLES_PER_INTENT = 2\n",
        "\n",
        "mini_train_set = examples_to_dataset(create_mini_training_set(EXAMPLES_PER_INTENT))\n",
        "\n",
        "train_dataloader = DataLoader(mini_train_set, sampler=RandomSampler(mini_train_set), batch_size=BATCH_SIZE)\n",
        "\n",
        "bert_model = BertForSequenceClassification.from_pretrained(\n",
        "    \"bert-base-uncased\", # Use the 12-layer BERT model, with an uncased vocab.\n",
        "    num_labels = INTENT_DIM,\n",
        "    output_attentions = False, # Whether the model returns attentions weights.\n",
        "    output_hidden_states = False, # Whether the model returns all hidden-states.\n",
        ")\n",
        "\n",
        "train(bert_model, train_dataloader, EPOCHS)\n",
        "\n",
        "print(\"Evaluating on test set:\")\n",
        "print(\"Test Scores:\")\n",
        "evaluate(bert_model, test_dataloader)"
      ],
      "metadata": {
        "colab": {
          "base_uri": "https://localhost:8080/"
        },
        "id": "Ftn1ECOgGi9j",
        "outputId": "6a6dfe84-8ecc-40af-bdaa-7f8ae9011cc5"
      },
      "id": "Ftn1ECOgGi9j",
      "execution_count": null,
      "outputs": [
        {
          "output_type": "stream",
          "name": "stderr",
          "text": [
            "Some weights of BertForSequenceClassification were not initialized from the model checkpoint at bert-base-uncased and are newly initialized: ['classifier.bias', 'classifier.weight']\n",
            "You should probably TRAIN this model on a down-stream task to be able to use it for predictions and inference.\n",
            "/usr/local/lib/python3.10/dist-packages/transformers/optimization.py:591: FutureWarning: This implementation of AdamW is deprecated and will be removed in a future version. Use the PyTorch implementation torch.optim.AdamW instead, or set `no_deprecation_warning=True` to disable this warning\n",
            "  warnings.warn(\n"
          ]
        },
        {
          "output_type": "stream",
          "name": "stdout",
          "text": [
            "======== Epoch 1 / 5 ========\n"
          ]
        },
        {
          "output_type": "stream",
          "name": "stderr",
          "text": [
            "100%|██████████| 1/1 [00:04<00:00,  4.52s/it]\n"
          ]
        },
        {
          "output_type": "stream",
          "name": "stdout",
          "text": [
            "  Average training loss: 2.20\n",
            "  Average Training accuracy: 0.00\n",
            "======== Epoch 2 / 5 ========\n"
          ]
        },
        {
          "output_type": "stream",
          "name": "stderr",
          "text": [
            "100%|██████████| 1/1 [00:05<00:00,  5.34s/it]\n"
          ]
        },
        {
          "output_type": "stream",
          "name": "stdout",
          "text": [
            "  Average training loss: 1.69\n",
            "  Average Training accuracy: 0.50\n",
            "======== Epoch 3 / 5 ========\n"
          ]
        },
        {
          "output_type": "stream",
          "name": "stderr",
          "text": [
            "100%|██████████| 1/1 [00:04<00:00,  4.29s/it]\n"
          ]
        },
        {
          "output_type": "stream",
          "name": "stdout",
          "text": [
            "  Average training loss: 1.56\n",
            "  Average Training accuracy: 0.79\n",
            "======== Epoch 4 / 5 ========\n"
          ]
        },
        {
          "output_type": "stream",
          "name": "stderr",
          "text": [
            "100%|██████████| 1/1 [00:04<00:00,  4.06s/it]\n"
          ]
        },
        {
          "output_type": "stream",
          "name": "stdout",
          "text": [
            "  Average training loss: 1.48\n",
            "  Average Training accuracy: 0.86\n",
            "======== Epoch 5 / 5 ========\n"
          ]
        },
        {
          "output_type": "stream",
          "name": "stderr",
          "text": [
            "100%|██████████| 1/1 [00:05<00:00,  5.09s/it]\n"
          ]
        },
        {
          "output_type": "stream",
          "name": "stdout",
          "text": [
            "  Average training loss: 1.33\n",
            "  Average Training accuracy: 0.93\n",
            "Evaluating on test set:\n",
            "Test Scores:\n"
          ]
        },
        {
          "output_type": "stream",
          "name": "stderr",
          "text": [
            "100%|██████████| 21/21 [00:04<00:00,  4.50it/s]"
          ]
        },
        {
          "output_type": "stream",
          "name": "stdout",
          "text": [
            "Validation Accuracy: 0.21428571428571427\n",
            "Accuracy: 0.2143\n",
            "Precision: 0.1212\n",
            "Recall: 0.2143\n",
            "F1 Score: 0.1303\n"
          ]
        },
        {
          "output_type": "stream",
          "name": "stderr",
          "text": [
            "\n",
            "/usr/local/lib/python3.10/dist-packages/sklearn/metrics/_classification.py:1531: UndefinedMetricWarning: Precision is ill-defined and being set to 0.0 in labels with no predicted samples. Use `zero_division` parameter to control this behavior.\n",
            "  _warn_prf(average, modifier, f\"{metric.capitalize()} is\", len(result))\n"
          ]
        },
        {
          "output_type": "execute_result",
          "data": {
            "text/plain": [
              "(0.21428571428571427,\n",
              " 0.12120572366877785,\n",
              " 0.21428571428571427,\n",
              " 0.13025210084033614)"
            ]
          },
          "metadata": {},
          "execution_count": 47
        }
      ]
    }
  ],
  "metadata": {
    "@webio": {
      "lastCommId": null,
      "lastKernelId": null
    },
    "accelerator": "GPU",
    "colab": {
      "provenance": []
    },
    "kernelspec": {
      "display_name": "Python 3 (ipykernel)",
      "language": "python",
      "name": "python3"
    },
    "language_info": {
      "codemirror_mode": {
        "name": "ipython",
        "version": 3
      },
      "file_extension": ".py",
      "mimetype": "text/x-python",
      "name": "python",
      "nbconvert_exporter": "python",
      "pygments_lexer": "ipython3",
      "version": "3.9.7"
    },
    "widgets": {
      "application/vnd.jupyter.widget-state+json": {
        "a0c31b5515ce4ab9b62fa6ceff008450": {
          "model_module": "@jupyter-widgets/controls",
          "model_name": "HBoxModel",
          "model_module_version": "1.5.0",
          "state": {
            "_dom_classes": [],
            "_model_module": "@jupyter-widgets/controls",
            "_model_module_version": "1.5.0",
            "_model_name": "HBoxModel",
            "_view_count": null,
            "_view_module": "@jupyter-widgets/controls",
            "_view_module_version": "1.5.0",
            "_view_name": "HBoxView",
            "box_style": "",
            "children": [
              "IPY_MODEL_7c995bea8f87423e9487f4ee9c963de5",
              "IPY_MODEL_3317432daaa34c1ea8ad10b293d830ae",
              "IPY_MODEL_446bdc57b9e0467e8b6e53aff856c011"
            ],
            "layout": "IPY_MODEL_aa0a789f70b74bb68c2c97c4caaade64"
          }
        },
        "7c995bea8f87423e9487f4ee9c963de5": {
          "model_module": "@jupyter-widgets/controls",
          "model_name": "HTMLModel",
          "model_module_version": "1.5.0",
          "state": {
            "_dom_classes": [],
            "_model_module": "@jupyter-widgets/controls",
            "_model_module_version": "1.5.0",
            "_model_name": "HTMLModel",
            "_view_count": null,
            "_view_module": "@jupyter-widgets/controls",
            "_view_module_version": "1.5.0",
            "_view_name": "HTMLView",
            "description": "",
            "description_tooltip": null,
            "layout": "IPY_MODEL_da4785763e774ba29a76e6f6a2d14142",
            "placeholder": "​",
            "style": "IPY_MODEL_c1aab8e1a083451fa2ec138f4ae8fca8",
            "value": "  0%"
          }
        },
        "3317432daaa34c1ea8ad10b293d830ae": {
          "model_module": "@jupyter-widgets/controls",
          "model_name": "FloatProgressModel",
          "model_module_version": "1.5.0",
          "state": {
            "_dom_classes": [],
            "_model_module": "@jupyter-widgets/controls",
            "_model_module_version": "1.5.0",
            "_model_name": "FloatProgressModel",
            "_view_count": null,
            "_view_module": "@jupyter-widgets/controls",
            "_view_module_version": "1.5.0",
            "_view_name": "ProgressView",
            "bar_style": "danger",
            "description": "",
            "description_tooltip": null,
            "layout": "IPY_MODEL_aa893c769b5b4447a4ccb598e7cc3ee9",
            "max": 21,
            "min": 0,
            "orientation": "horizontal",
            "style": "IPY_MODEL_86efb0b77e2e4a51b50ab2ee2e73ee0f",
            "value": 0
          }
        },
        "446bdc57b9e0467e8b6e53aff856c011": {
          "model_module": "@jupyter-widgets/controls",
          "model_name": "HTMLModel",
          "model_module_version": "1.5.0",
          "state": {
            "_dom_classes": [],
            "_model_module": "@jupyter-widgets/controls",
            "_model_module_version": "1.5.0",
            "_model_name": "HTMLModel",
            "_view_count": null,
            "_view_module": "@jupyter-widgets/controls",
            "_view_module_version": "1.5.0",
            "_view_name": "HTMLView",
            "description": "",
            "description_tooltip": null,
            "layout": "IPY_MODEL_e42d4ba4265044c58dcc442da38689da",
            "placeholder": "​",
            "style": "IPY_MODEL_52759b2150e84fc091a33ccce8b20fff",
            "value": " 0/21 [00:00&lt;?, ?it/s]"
          }
        },
        "aa0a789f70b74bb68c2c97c4caaade64": {
          "model_module": "@jupyter-widgets/base",
          "model_name": "LayoutModel",
          "model_module_version": "1.2.0",
          "state": {
            "_model_module": "@jupyter-widgets/base",
            "_model_module_version": "1.2.0",
            "_model_name": "LayoutModel",
            "_view_count": null,
            "_view_module": "@jupyter-widgets/base",
            "_view_module_version": "1.2.0",
            "_view_name": "LayoutView",
            "align_content": null,
            "align_items": null,
            "align_self": null,
            "border": null,
            "bottom": null,
            "display": null,
            "flex": null,
            "flex_flow": null,
            "grid_area": null,
            "grid_auto_columns": null,
            "grid_auto_flow": null,
            "grid_auto_rows": null,
            "grid_column": null,
            "grid_gap": null,
            "grid_row": null,
            "grid_template_areas": null,
            "grid_template_columns": null,
            "grid_template_rows": null,
            "height": null,
            "justify_content": null,
            "justify_items": null,
            "left": null,
            "margin": null,
            "max_height": null,
            "max_width": null,
            "min_height": null,
            "min_width": null,
            "object_fit": null,
            "object_position": null,
            "order": null,
            "overflow": null,
            "overflow_x": null,
            "overflow_y": null,
            "padding": null,
            "right": null,
            "top": null,
            "visibility": null,
            "width": null
          }
        },
        "da4785763e774ba29a76e6f6a2d14142": {
          "model_module": "@jupyter-widgets/base",
          "model_name": "LayoutModel",
          "model_module_version": "1.2.0",
          "state": {
            "_model_module": "@jupyter-widgets/base",
            "_model_module_version": "1.2.0",
            "_model_name": "LayoutModel",
            "_view_count": null,
            "_view_module": "@jupyter-widgets/base",
            "_view_module_version": "1.2.0",
            "_view_name": "LayoutView",
            "align_content": null,
            "align_items": null,
            "align_self": null,
            "border": null,
            "bottom": null,
            "display": null,
            "flex": null,
            "flex_flow": null,
            "grid_area": null,
            "grid_auto_columns": null,
            "grid_auto_flow": null,
            "grid_auto_rows": null,
            "grid_column": null,
            "grid_gap": null,
            "grid_row": null,
            "grid_template_areas": null,
            "grid_template_columns": null,
            "grid_template_rows": null,
            "height": null,
            "justify_content": null,
            "justify_items": null,
            "left": null,
            "margin": null,
            "max_height": null,
            "max_width": null,
            "min_height": null,
            "min_width": null,
            "object_fit": null,
            "object_position": null,
            "order": null,
            "overflow": null,
            "overflow_x": null,
            "overflow_y": null,
            "padding": null,
            "right": null,
            "top": null,
            "visibility": null,
            "width": null
          }
        },
        "c1aab8e1a083451fa2ec138f4ae8fca8": {
          "model_module": "@jupyter-widgets/controls",
          "model_name": "DescriptionStyleModel",
          "model_module_version": "1.5.0",
          "state": {
            "_model_module": "@jupyter-widgets/controls",
            "_model_module_version": "1.5.0",
            "_model_name": "DescriptionStyleModel",
            "_view_count": null,
            "_view_module": "@jupyter-widgets/base",
            "_view_module_version": "1.2.0",
            "_view_name": "StyleView",
            "description_width": ""
          }
        },
        "aa893c769b5b4447a4ccb598e7cc3ee9": {
          "model_module": "@jupyter-widgets/base",
          "model_name": "LayoutModel",
          "model_module_version": "1.2.0",
          "state": {
            "_model_module": "@jupyter-widgets/base",
            "_model_module_version": "1.2.0",
            "_model_name": "LayoutModel",
            "_view_count": null,
            "_view_module": "@jupyter-widgets/base",
            "_view_module_version": "1.2.0",
            "_view_name": "LayoutView",
            "align_content": null,
            "align_items": null,
            "align_self": null,
            "border": null,
            "bottom": null,
            "display": null,
            "flex": null,
            "flex_flow": null,
            "grid_area": null,
            "grid_auto_columns": null,
            "grid_auto_flow": null,
            "grid_auto_rows": null,
            "grid_column": null,
            "grid_gap": null,
            "grid_row": null,
            "grid_template_areas": null,
            "grid_template_columns": null,
            "grid_template_rows": null,
            "height": null,
            "justify_content": null,
            "justify_items": null,
            "left": null,
            "margin": null,
            "max_height": null,
            "max_width": null,
            "min_height": null,
            "min_width": null,
            "object_fit": null,
            "object_position": null,
            "order": null,
            "overflow": null,
            "overflow_x": null,
            "overflow_y": null,
            "padding": null,
            "right": null,
            "top": null,
            "visibility": null,
            "width": null
          }
        },
        "86efb0b77e2e4a51b50ab2ee2e73ee0f": {
          "model_module": "@jupyter-widgets/controls",
          "model_name": "ProgressStyleModel",
          "model_module_version": "1.5.0",
          "state": {
            "_model_module": "@jupyter-widgets/controls",
            "_model_module_version": "1.5.0",
            "_model_name": "ProgressStyleModel",
            "_view_count": null,
            "_view_module": "@jupyter-widgets/base",
            "_view_module_version": "1.2.0",
            "_view_name": "StyleView",
            "bar_color": null,
            "description_width": ""
          }
        },
        "e42d4ba4265044c58dcc442da38689da": {
          "model_module": "@jupyter-widgets/base",
          "model_name": "LayoutModel",
          "model_module_version": "1.2.0",
          "state": {
            "_model_module": "@jupyter-widgets/base",
            "_model_module_version": "1.2.0",
            "_model_name": "LayoutModel",
            "_view_count": null,
            "_view_module": "@jupyter-widgets/base",
            "_view_module_version": "1.2.0",
            "_view_name": "LayoutView",
            "align_content": null,
            "align_items": null,
            "align_self": null,
            "border": null,
            "bottom": null,
            "display": null,
            "flex": null,
            "flex_flow": null,
            "grid_area": null,
            "grid_auto_columns": null,
            "grid_auto_flow": null,
            "grid_auto_rows": null,
            "grid_column": null,
            "grid_gap": null,
            "grid_row": null,
            "grid_template_areas": null,
            "grid_template_columns": null,
            "grid_template_rows": null,
            "height": null,
            "justify_content": null,
            "justify_items": null,
            "left": null,
            "margin": null,
            "max_height": null,
            "max_width": null,
            "min_height": null,
            "min_width": null,
            "object_fit": null,
            "object_position": null,
            "order": null,
            "overflow": null,
            "overflow_x": null,
            "overflow_y": null,
            "padding": null,
            "right": null,
            "top": null,
            "visibility": null,
            "width": null
          }
        },
        "52759b2150e84fc091a33ccce8b20fff": {
          "model_module": "@jupyter-widgets/controls",
          "model_name": "DescriptionStyleModel",
          "model_module_version": "1.5.0",
          "state": {
            "_model_module": "@jupyter-widgets/controls",
            "_model_module_version": "1.5.0",
            "_model_name": "DescriptionStyleModel",
            "_view_count": null,
            "_view_module": "@jupyter-widgets/base",
            "_view_module_version": "1.2.0",
            "_view_name": "StyleView",
            "description_width": ""
          }
        }
      }
    }
  },
  "nbformat": 4,
  "nbformat_minor": 5
}