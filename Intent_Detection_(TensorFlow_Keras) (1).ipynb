{
  "cells": [
    {
      "cell_type": "code",
      "execution_count": null,
      "metadata": {
        "id": "GROVK1ogLI1z"
      },
      "outputs": [],
      "source": [
        "import tensorflow as tf\n",
        "from tensorflow.keras.preprocessing.text import Tokenizer\n",
        "from tensorflow.keras.preprocessing.sequence import pad_sequences\n",
        "import numpy as np\n",
        "import random\n",
        "import json\n",
        "\n",
        "import warnings\n",
        "warnings.filterwarnings('ignore')\n"
      ]
    },
    {
      "cell_type": "code",
      "execution_count": null,
      "metadata": {
        "colab": {
          "base_uri": "https://localhost:8080/"
        },
        "id": "XjwdkB0PdkJJ",
        "outputId": "d1818574-5881-422e-8c59-bb9af8081005"
      },
      "outputs": [
        {
          "output_type": "stream",
          "name": "stdout",
          "text": [
            "{'intents': [{'intent': 'Retrieve_Case', 'text': ['Find cases citing AIR 2012 SC 890 where The appeal is allowed, and the order passed by the High Court is set aside', 'Show cases with Company Law', 'Retrieve cases citing 2010 SCR 567 with Sales Tax Act where Supreme Court appeals dismissed', 'Search cases based on Customs Act citing 1995 SCR 234 by I Verma', 'Fetch cases by J Sharma', 'Show cases with K Brown, J Agarwal', 'Retrieve cases of contract dispute on 30 November, 2025', 'Find case Verma vs. Brown and Yadav', 'Search cases based on 14 July, 2026 by L Krishnan citing 2005 AIR 1245', 'Get cases by S Kapoor of assault'], 'responses': ['Retrieve_Case']}, {'intent': 'Retrieve_Statute', 'text': ['Find statutes where Verdict in favor of the plaintiff', 'Show statutes citing 1995 SCR 234', 'Retrieve statutes where The defendant is found guilty of patent infringement citing 2005 AIR 1245', 'Search statutes citing (2002) 3 SCC 567 by L Krishnan', 'Fetch statutes involving A Patel', 'Show statutes with R Singh, W Agarwal', 'Retrieve statutes of contract dispute on 15 June, 2021', 'Find statutes of State of Maharashtra vs. Jio Ltd', 'Search statutes based on 08 January, 2027 by A Yadav citing 2010 SCR 567', 'Get statutes by D Gupta of tax evasion'], 'responses': ['Retrieve_Statute']}, {'intent': 'Retrieve_Date', 'text': ['Find date citing 2010 SCR 567 where Supreme Court appeals dismissed', 'Show date with IPC Section 302', 'Retrieve date citing 1988 AIR 789 and where Verdict in favor of the plaintiff with Evidence Act', 'Search date with Income Tax Act citing 1995 SCR 234 by A Patel', 'Fetch date by S Kapoor', 'Show date with C Sharma, A Yadav, P Krishnan', 'Retrieve date of cybercrime where The appeal is allowed, and the order passed by the High Court is set aside', 'Find date State of Maharashtra vs. Jio Ltd', 'Search date based on 27 October, 2022 by J Sharma citing AIR 2012 SC 890', 'Get date by I Verma of robbery'], 'responses': ['Retrieve_Date']}, {'intent': 'Retrieve_Author', 'text': ['Find author citing AIR 2000 SC 123 where Verdict in favor of the plaintiff', 'Show author of case with Patents Act', 'Retrieve author of case following 2005 AIR 1245 and where Tax evasion charges dropped due to lack of evidence with Sales Tax Act', 'Search author of case based on Income Tax Act citing (2002) 3 SCC 567 by L Krishnan', 'Show author of case with E Krishnan, M Gupta', 'Get author with D Gupta, S Sharma with Company Law', 'Retrieve author of case of contract dispute on 16 May, 2023', 'Find author of case Krishnan & Sons vs. Wilson Enterprises', 'Search author based on 15 June, 2021 by M Brown, D Wilson, S Davis citing 2010 SCR 567', 'Get author by J Sharma of cybercrime'], 'responses': ['Retrieve_Author']}, {'intent': 'Retrieve_Bench', 'text': ['Find bench citing 1988 AIR 789 with Verdict in favor of the plaintiff', 'Show bench with CPC Section 210', 'Retrieve bench following (2002) 3 SCC 567 and having Tax evasion charges dropped due to lack of evidence with Customs Act', 'Search bench based on Patents Act citing 2018 (4) UJ 789 SC by D Gupta', 'Fetch bench by R Singh', 'Get bench by S Kapoor with Company Law', 'Retrieve bench of patent infringement on 31 December, 2023', 'Find bench Krishnan & Sons vs. Wilson Enterprises', 'Search bench based on 14 July, 2026 by A Patel citing (2014) 6 SCC 321', 'Get bench by L Krishnan of cybercrime'], 'responses': ['Retrieve_Bench']}, {'intent': 'Retrieve_Verdict', 'text': ['Find verdict citing 2018 (4) UJ 789 SC', 'Show verdict with Contract Act', 'Retrieve verdict following AIR 2012 SC 890 and having Supreme Court appeals dismissed with Sales Tax Act', 'Search verdict based on Customs Act citing 2020 (2) UJ 456 SC by A Yadav', 'Fetch verdict by A Patel', 'Show verdict with J Patel, A Verma', 'Retrieve verdict of patent infringement on 14 July, 2026', 'Find verdict Agarwal vs. The Commissioner of Taxation', 'Search verdict based on 27 October, 2022 by M Brown, D Wilson, S Davis citing AIR 2000 SC 123', 'Get verdict by L Krishnan of tax evasion'], 'responses': ['Retrieve_Verdict']}, {'intent': 'Retrieve_Alldeets', 'text': ['Find details for case citing 2018 (4) UJ 789 SC', 'Show details for cases with with Contract Act', 'Retrieve details following AIR 2012 SC 890 and having Supreme Court appeals dismissed with Sales Tax Act', 'Search details based on Customs Act citing 2020 (2) UJ 456 SC by A Yadav', 'Fetch details for cases by A Patel', 'Show details for cases with J Patel, A Verma', 'Retrieve details of patent infringement on 14 July, 2026', 'Find details for case with Agarwal vs. The Commissioner of Taxation', 'Search details of case on 27 October, 2022 by M Brown, D Wilson, S Davis citing AIR 2000 SC 123', 'Get details of case by L Krishnan of tax evasion'], 'responses': ['Retrieve_Verdict']}]}\n",
            "<class 'dict'>\n"
          ]
        }
      ],
      "source": [
        "import json\n",
        "\n",
        "# Your JSON string\n",
        "json_string = '{ \"intents\": [ { \"intent\" : \"Retrieve_Case\", \"text\": [ \"Find cases citing AIR 2012 SC 890 where The appeal is allowed, and the order passed by the High Court is set aside\", \"Show cases with Company Law\", \"Retrieve cases citing 2010 SCR 567 with Sales Tax Act where Supreme Court appeals dismissed\", \"Search cases based on Customs Act citing 1995 SCR 234 by I Verma\", \"Fetch cases by J Sharma\", \"Show cases with K Brown, J Agarwal\", \"Retrieve cases of contract dispute on 30 November, 2025\", \"Find case Verma vs. Brown and Yadav\", \"Search cases based on 14 July, 2026 by L Krishnan citing 2005 AIR 1245\", \"Get cases by S Kapoor of assault\" ], \"responses\" : [\"Retrieve_Case\"] }, { \"intent\" : \"Retrieve_Statute\", \"text\": [ \"Find statutes where Verdict in favor of the plaintiff\", \"Show statutes citing 1995 SCR 234\", \"Retrieve statutes where The defendant is found guilty of patent infringement citing 2005 AIR 1245\", \"Search statutes citing (2002) 3 SCC 567 by L Krishnan\", \"Fetch statutes involving A Patel\", \"Show statutes with R Singh, W Agarwal\", \"Retrieve statutes of contract dispute on 15 June, 2021\", \"Find statutes of State of Maharashtra vs. Jio Ltd\", \"Search statutes based on 08 January, 2027 by A Yadav citing 2010 SCR 567\", \"Get statutes by D Gupta of tax evasion\" ], \"responses\" : [\"Retrieve_Statute\"] }, { \"intent\" : \"Retrieve_Date\", \"text\": [ \"Find date citing 2010 SCR 567 where Supreme Court appeals dismissed\", \"Show date with IPC Section 302\", \"Retrieve date citing 1988 AIR 789 and where Verdict in favor of the plaintiff with Evidence Act\", \"Search date with Income Tax Act citing 1995 SCR 234 by A Patel\", \"Fetch date by S Kapoor\", \"Show date with C Sharma, A Yadav, P Krishnan\", \"Retrieve date of cybercrime where The appeal is allowed, and the order passed by the High Court is set aside\", \"Find date State of Maharashtra vs. Jio Ltd\", \"Search date based on 27 October, 2022 by J Sharma citing AIR 2012 SC 890\", \"Get date by I Verma of robbery\" ], \"responses\" : [\"Retrieve_Date\"] }, { \"intent\" : \"Retrieve_Author\", \"text\": [ \"Find author citing AIR 2000 SC 123 where Verdict in favor of the plaintiff\", \"Show author of case with Patents Act\", \"Retrieve author of case following 2005 AIR 1245 and where Tax evasion charges dropped due to lack of evidence with Sales Tax Act\", \"Search author of case based on Income Tax Act citing (2002) 3 SCC 567 by L Krishnan\", \"Show author of case with E Krishnan, M Gupta\", \"Get author with D Gupta, S Sharma with Company Law\", \"Retrieve author of case of contract dispute on 16 May, 2023\", \"Find author of case Krishnan & Sons vs. Wilson Enterprises\", \"Search author based on 15 June, 2021 by M Brown, D Wilson, S Davis citing 2010 SCR 567\", \"Get author by J Sharma of cybercrime\" ], \"responses\" : [\"Retrieve_Author\"] }, { \"intent\" : \"Retrieve_Bench\", \"text\": [ \"Find bench citing 1988 AIR 789 with Verdict in favor of the plaintiff\", \"Show bench with CPC Section 210\", \"Retrieve bench following (2002) 3 SCC 567 and having Tax evasion charges dropped due to lack of evidence with Customs Act\", \"Search bench based on Patents Act citing 2018 (4) UJ 789 SC by D Gupta\", \"Fetch bench by R Singh\", \"Get bench by S Kapoor with Company Law\", \"Retrieve bench of patent infringement on 31 December, 2023\", \"Find bench Krishnan & Sons vs. Wilson Enterprises\", \"Search bench based on 14 July, 2026 by A Patel citing (2014) 6 SCC 321\", \"Get bench by L Krishnan of cybercrime\" ], \"responses\" : [\"Retrieve_Bench\"] }, { \"intent\" : \"Retrieve_Verdict\", \"text\": [ \"Find verdict citing 2018 (4) UJ 789 SC\", \"Show verdict with Contract Act\", \"Retrieve verdict following AIR 2012 SC 890 and having Supreme Court appeals dismissed with Sales Tax Act\", \"Search verdict based on Customs Act citing 2020 (2) UJ 456 SC by A Yadav\", \"Fetch verdict by A Patel\", \"Show verdict with J Patel, A Verma\", \"Retrieve verdict of patent infringement on 14 July, 2026\", \"Find verdict Agarwal vs. The Commissioner of Taxation\", \"Search verdict based on 27 October, 2022 by M Brown, D Wilson, S Davis citing AIR 2000 SC 123\", \"Get verdict by L Krishnan of tax evasion\" ], \"responses\" : [\"Retrieve_Verdict\"] }, { \"intent\" : \"Retrieve_Alldeets\", \"text\": [ \"Find details for case citing 2018 (4) UJ 789 SC\", \"Show details for cases with with Contract Act\", \"Retrieve details following AIR 2012 SC 890 and having Supreme Court appeals dismissed with Sales Tax Act\", \"Search details based on Customs Act citing 2020 (2) UJ 456 SC by A Yadav\", \"Fetch details for cases by A Patel\", \"Show details for cases with J Patel, A Verma\", \"Retrieve details of patent infringement on 14 July, 2026\", \"Find details for case with Agarwal vs. The Commissioner of Taxation\", \"Search details of case on 27 October, 2022 by M Brown, D Wilson, S Davis citing AIR 2000 SC 123\", \"Get details of case by L Krishnan of tax evasion\" ], \"responses\" : [\"Retrieve_Verdict\"] } ] }'\n",
        "\n",
        "# Convert string to JSON (Python dict)\n",
        "data = json.loads(json_string)\n",
        "\n",
        "# Now json_object is a Python dictionary\n",
        "print(data)\n",
        "print(type(data))"
      ]
    },
    {
      "cell_type": "code",
      "execution_count": null,
      "metadata": {
        "id": "8ysXrbPje2dA"
      },
      "outputs": [],
      "source": [
        "def clean(line):\n",
        "    cleaned_line = ''\n",
        "    for char in line:\n",
        "        if char.isalpha():\n",
        "            cleaned_line += char\n",
        "        else:\n",
        "            cleaned_line += ' '\n",
        "    cleaned_line = ' '.join(cleaned_line.split())\n",
        "    return cleaned_line\n"
      ]
    },
    {
      "cell_type": "code",
      "execution_count": null,
      "metadata": {
        "id": "-l8lWiuahXcT"
      },
      "outputs": [],
      "source": [
        "#list of intents\n",
        "intents = []\n",
        "unique_intents = []\n",
        "#all text data to create a corpus\n",
        "text_input= []\n",
        "# dictionary mapping intent with appropriate response\n",
        "response_for_intent = {}\n",
        "for intent in data['intents']:\n",
        "    #list of unique intents\n",
        "    if intent['intent'] not in unique_intents:\n",
        "        unique_intents.append(intent['intent'])\n",
        "    for text in intent['text']:\n",
        "        #cleaning is done before adding text to corpus\n",
        "        text_input.append(clean(text))\n",
        "        intents.append(intent['intent'])\n",
        "    if intent['intent'] not in response_for_intent:\n",
        "        response_for_intent[intent['intent']] = []\n",
        "    for response in intent['responses']:\n",
        "        response_for_intent[intent['intent']].append(response)\n"
      ]
    },
    {
      "cell_type": "code",
      "execution_count": null,
      "metadata": {
        "colab": {
          "base_uri": "https://localhost:8080/"
        },
        "id": "qlxtPyOrhaZM",
        "outputId": "1e7a07d4-53b1-4e54-ef77-392580b592d5"
      },
      "outputs": [
        {
          "output_type": "stream",
          "name": "stdout",
          "text": [
            "70\n",
            "70\n"
          ]
        }
      ],
      "source": [
        "print(len(text_input))\n",
        "print(len(intents))"
      ]
    },
    {
      "cell_type": "code",
      "execution_count": null,
      "metadata": {
        "colab": {
          "base_uri": "https://localhost:8080/"
        },
        "id": "91v6xj9Zf2MM",
        "outputId": "e90f75e7-8b9e-4273-fc98-3d967ec7e095"
      },
      "outputs": [
        {
          "output_type": "stream",
          "name": "stdout",
          "text": [
            "Get bench by L Krishnan of cybercrime\n",
            "Retrieve_Bench\n"
          ]
        }
      ],
      "source": [
        "import random\n",
        "\n",
        "# Generate a random number between 0 and 160\n",
        "random_number = random.randint(0, 70)\n",
        "print(text_input[random_number])\n",
        "print(intents[random_number])"
      ]
    },
    {
      "cell_type": "code",
      "execution_count": null,
      "metadata": {
        "colab": {
          "base_uri": "https://localhost:8080/"
        },
        "id": "h0nUeuOOhljx",
        "outputId": "0cbb4883-5101-42e7-b0ed-b1bbdfb87aa1"
      },
      "outputs": [
        {
          "output_type": "stream",
          "name": "stdout",
          "text": [
            "Shape of Input Sequence: (70, 21)\n"
          ]
        },
        {
          "output_type": "execute_result",
          "data": {
            "text/plain": [
              "array([[ 8, 14,  5, 15, 16, 27, 12, 74, 39, 75, 29, 12, 76, 77,  3, 12,\n",
              "        78, 34, 39, 79, 80],\n",
              "       [ 0,  0,  0,  0,  0,  0,  0,  0,  0,  0,  0,  0,  0,  0,  0,  0,\n",
              "        13, 14,  4, 65, 66],\n",
              "       [ 0,  0,  0,  0,  0,  0,  0,  0,  9, 14,  5, 30,  4, 49, 17,  7,\n",
              "        27, 50, 34, 51, 52],\n",
              "       [ 0,  0,  0,  0,  0,  0,  0,  0,  0,  0, 10, 14, 18,  6, 53,  7,\n",
              "         5, 30,  3, 81, 40],\n",
              "       [ 0,  0,  0,  0,  0,  0,  0,  0,  0,  0,  0,  0,  0,  0,  0,  0,\n",
              "        35, 14,  3, 36, 41]], dtype=int32)"
            ]
          },
          "metadata": {},
          "execution_count": 7
        }
      ],
      "source": [
        "tokenizer = Tokenizer(filters='',oov_token='<unk>')\n",
        "tokenizer.fit_on_texts(text_input)\n",
        "sequences = tokenizer.texts_to_sequences(text_input)\n",
        "padded_sequences = pad_sequences(sequences, padding='pre')\n",
        "print('Shape of Input Sequence:',padded_sequences.shape)\n",
        "padded_sequences[:5]\n"
      ]
    },
    {
      "cell_type": "code",
      "execution_count": null,
      "metadata": {
        "colab": {
          "base_uri": "https://localhost:8080/"
        },
        "id": "8OcpIQrGkPZy",
        "outputId": "d297ef5e-e1de-46f5-9f72-c46e5dbf1ba6"
      },
      "outputs": [
        {
          "output_type": "stream",
          "name": "stdout",
          "text": [
            "Number of Intents : 7\n"
          ]
        },
        {
          "output_type": "execute_result",
          "data": {
            "text/plain": [
              "{0: 'Retrieve_Case',\n",
              " 1: 'Retrieve_Statute',\n",
              " 2: 'Retrieve_Date',\n",
              " 3: 'Retrieve_Author',\n",
              " 4: 'Retrieve_Bench',\n",
              " 5: 'Retrieve_Verdict',\n",
              " 6: 'Retrieve_Alldeets'}"
            ]
          },
          "metadata": {},
          "execution_count": 8
        }
      ],
      "source": [
        "intent_to_index = {}\n",
        "categorical_target = []\n",
        "index = 0\n",
        "\n",
        "for intent in intents:\n",
        "    if intent not in intent_to_index:\n",
        "        intent_to_index[intent] = index\n",
        "        index += 1\n",
        "    categorical_target.append(intent_to_index[intent])\n",
        "\n",
        "num_classes = len(intent_to_index)\n",
        "print('Number of Intents :',num_classes)\n",
        "\n",
        "# Convert intent_to_index to index_to_intent\n",
        "index_to_intent = {index: intent for intent, index in intent_to_index.items()}\n",
        "index_to_intent\n"
      ]
    },
    {
      "cell_type": "code",
      "execution_count": null,
      "metadata": {
        "colab": {
          "base_uri": "https://localhost:8080/"
        },
        "id": "7c9VTSEQjw_l",
        "outputId": "70d11caf-240f-44b6-8daf-81dafb0aea9a"
      },
      "outputs": [
        {
          "output_type": "stream",
          "name": "stdout",
          "text": [
            "Shape of Ca (70, 7)\n"
          ]
        },
        {
          "output_type": "execute_result",
          "data": {
            "text/plain": [
              "array([[1, 0, 0, 0, 0, 0, 0],\n",
              "       [1, 0, 0, 0, 0, 0, 0],\n",
              "       [1, 0, 0, 0, 0, 0, 0],\n",
              "       [1, 0, 0, 0, 0, 0, 0],\n",
              "       [1, 0, 0, 0, 0, 0, 0]], dtype=int32)"
            ]
          },
          "metadata": {},
          "execution_count": 9
        }
      ],
      "source": [
        "categorical_vec = tf.keras.utils.to_categorical(categorical_target,\n",
        "                                                num_classes=num_classes)\n",
        "\n",
        "categorical_vec = categorical_vec.astype('int32')\n",
        "\n",
        "print('Shape of Ca',categorical_vec.shape)\n",
        "categorical_vec[:5]\n"
      ]
    },
    {
      "cell_type": "code",
      "execution_count": null,
      "metadata": {
        "colab": {
          "base_uri": "https://localhost:8080/"
        },
        "id": "n2rVOUQwjzrF",
        "outputId": "86191ad8-2c55-4ecc-b0d9-b0d077904ec8"
      },
      "outputs": [
        {
          "output_type": "stream",
          "name": "stdout",
          "text": [
            "Input Dimension :7,\n",
            "Output Dimension :7\n"
          ]
        }
      ],
      "source": [
        "epochs=20\n",
        "embed_dim=50\n",
        "lstm_num=364\n",
        "output_dim=categorical_vec.shape[1]\n",
        "input_dim=len(unique_intents)\n",
        "print(\"Input Dimension :{},\\nOutput Dimension :{}\".format(input_dim,output_dim))\n"
      ]
    },
    {
      "cell_type": "code",
      "execution_count": null,
      "metadata": {
        "colab": {
          "base_uri": "https://localhost:8080/",
          "height": 306
        },
        "id": "q3jkGcA4j2HG",
        "outputId": "b89bb5f3-daac-4bab-e9e7-2751a37b992e"
      },
      "outputs": [
        {
          "output_type": "display_data",
          "data": {
            "text/plain": [
              "\u001b[1mModel: \"sequential\"\u001b[0m\n"
            ],
            "text/html": [
              "<pre style=\"white-space:pre;overflow-x:auto;line-height:normal;font-family:Menlo,'DejaVu Sans Mono',consolas,'Courier New',monospace\"><span style=\"font-weight: bold\">Model: \"sequential\"</span>\n",
              "</pre>\n"
            ]
          },
          "metadata": {}
        },
        {
          "output_type": "display_data",
          "data": {
            "text/plain": [
              "┏━━━━━━━━━━━━━━━━━━━━━━━━━━━━━━━━━━━━━━┳━━━━━━━━━━━━━━━━━━━━━━━━━━━━━┳━━━━━━━━━━━━━━━━━┓\n",
              "┃\u001b[1m \u001b[0m\u001b[1mLayer (type)                        \u001b[0m\u001b[1m \u001b[0m┃\u001b[1m \u001b[0m\u001b[1mOutput Shape               \u001b[0m\u001b[1m \u001b[0m┃\u001b[1m \u001b[0m\u001b[1m        Param #\u001b[0m\u001b[1m \u001b[0m┃\n",
              "┡━━━━━━━━━━━━━━━━━━━━━━━━━━━━━━━━━━━━━━╇━━━━━━━━━━━━━━━━━━━━━━━━━━━━━╇━━━━━━━━━━━━━━━━━┩\n",
              "│ embedding (\u001b[38;5;33mEmbedding\u001b[0m)                │ ?                           │     \u001b[38;5;34m0\u001b[0m (unbuilt) │\n",
              "├──────────────────────────────────────┼─────────────────────────────┼─────────────────┤\n",
              "│ bidirectional (\u001b[38;5;33mBidirectional\u001b[0m)        │ ?                           │     \u001b[38;5;34m0\u001b[0m (unbuilt) │\n",
              "├──────────────────────────────────────┼─────────────────────────────┼─────────────────┤\n",
              "│ dense (\u001b[38;5;33mDense\u001b[0m)                        │ ?                           │     \u001b[38;5;34m0\u001b[0m (unbuilt) │\n",
              "├──────────────────────────────────────┼─────────────────────────────┼─────────────────┤\n",
              "│ dropout (\u001b[38;5;33mDropout\u001b[0m)                    │ ?                           │     \u001b[38;5;34m0\u001b[0m (unbuilt) │\n",
              "├──────────────────────────────────────┼─────────────────────────────┼─────────────────┤\n",
              "│ dense_1 (\u001b[38;5;33mDense\u001b[0m)                      │ ?                           │     \u001b[38;5;34m0\u001b[0m (unbuilt) │\n",
              "└──────────────────────────────────────┴─────────────────────────────┴─────────────────┘\n"
            ],
            "text/html": [
              "<pre style=\"white-space:pre;overflow-x:auto;line-height:normal;font-family:Menlo,'DejaVu Sans Mono',consolas,'Courier New',monospace\">┏━━━━━━━━━━━━━━━━━━━━━━━━━━━━━━━━━━━━━━┳━━━━━━━━━━━━━━━━━━━━━━━━━━━━━┳━━━━━━━━━━━━━━━━━┓\n",
              "┃<span style=\"font-weight: bold\"> Layer (type)                         </span>┃<span style=\"font-weight: bold\"> Output Shape                </span>┃<span style=\"font-weight: bold\">         Param # </span>┃\n",
              "┡━━━━━━━━━━━━━━━━━━━━━━━━━━━━━━━━━━━━━━╇━━━━━━━━━━━━━━━━━━━━━━━━━━━━━╇━━━━━━━━━━━━━━━━━┩\n",
              "│ embedding (<span style=\"color: #0087ff; text-decoration-color: #0087ff\">Embedding</span>)                │ ?                           │     <span style=\"color: #00af00; text-decoration-color: #00af00\">0</span> (unbuilt) │\n",
              "├──────────────────────────────────────┼─────────────────────────────┼─────────────────┤\n",
              "│ bidirectional (<span style=\"color: #0087ff; text-decoration-color: #0087ff\">Bidirectional</span>)        │ ?                           │     <span style=\"color: #00af00; text-decoration-color: #00af00\">0</span> (unbuilt) │\n",
              "├──────────────────────────────────────┼─────────────────────────────┼─────────────────┤\n",
              "│ dense (<span style=\"color: #0087ff; text-decoration-color: #0087ff\">Dense</span>)                        │ ?                           │     <span style=\"color: #00af00; text-decoration-color: #00af00\">0</span> (unbuilt) │\n",
              "├──────────────────────────────────────┼─────────────────────────────┼─────────────────┤\n",
              "│ dropout (<span style=\"color: #0087ff; text-decoration-color: #0087ff\">Dropout</span>)                    │ ?                           │     <span style=\"color: #00af00; text-decoration-color: #00af00\">0</span> (unbuilt) │\n",
              "├──────────────────────────────────────┼─────────────────────────────┼─────────────────┤\n",
              "│ dense_1 (<span style=\"color: #0087ff; text-decoration-color: #0087ff\">Dense</span>)                      │ ?                           │     <span style=\"color: #00af00; text-decoration-color: #00af00\">0</span> (unbuilt) │\n",
              "└──────────────────────────────────────┴─────────────────────────────┴─────────────────┘\n",
              "</pre>\n"
            ]
          },
          "metadata": {}
        },
        {
          "output_type": "display_data",
          "data": {
            "text/plain": [
              "\u001b[1m Total params: \u001b[0m\u001b[38;5;34m0\u001b[0m (0.00 B)\n"
            ],
            "text/html": [
              "<pre style=\"white-space:pre;overflow-x:auto;line-height:normal;font-family:Menlo,'DejaVu Sans Mono',consolas,'Courier New',monospace\"><span style=\"font-weight: bold\"> Total params: </span><span style=\"color: #00af00; text-decoration-color: #00af00\">0</span> (0.00 B)\n",
              "</pre>\n"
            ]
          },
          "metadata": {}
        },
        {
          "output_type": "display_data",
          "data": {
            "text/plain": [
              "\u001b[1m Trainable params: \u001b[0m\u001b[38;5;34m0\u001b[0m (0.00 B)\n"
            ],
            "text/html": [
              "<pre style=\"white-space:pre;overflow-x:auto;line-height:normal;font-family:Menlo,'DejaVu Sans Mono',consolas,'Courier New',monospace\"><span style=\"font-weight: bold\"> Trainable params: </span><span style=\"color: #00af00; text-decoration-color: #00af00\">0</span> (0.00 B)\n",
              "</pre>\n"
            ]
          },
          "metadata": {}
        },
        {
          "output_type": "display_data",
          "data": {
            "text/plain": [
              "\u001b[1m Non-trainable params: \u001b[0m\u001b[38;5;34m0\u001b[0m (0.00 B)\n"
            ],
            "text/html": [
              "<pre style=\"white-space:pre;overflow-x:auto;line-height:normal;font-family:Menlo,'DejaVu Sans Mono',consolas,'Courier New',monospace\"><span style=\"font-weight: bold\"> Non-trainable params: </span><span style=\"color: #00af00; text-decoration-color: #00af00\">0</span> (0.00 B)\n",
              "</pre>\n"
            ]
          },
          "metadata": {}
        }
      ],
      "source": [
        "model = tf.keras.models.Sequential([\n",
        "    tf.keras.layers.Embedding(len(tokenizer.word_index) + 1, embed_dim),\n",
        "    tf.keras.layers.Bidirectional(tf.keras.layers.LSTM(lstm_num, dropout=0.1)),\n",
        "    tf.keras.layers.Dense(lstm_num, activation='relu'),\n",
        "    tf.keras.layers.Dropout(0.4),\n",
        "    tf.keras.layers.Dense(output_dim, activation='softmax')\n",
        "])\n",
        "\n",
        "optimizer = tf.keras.optimizers.Adam(learning_rate=0.001)\n",
        "model.compile(optimizer=optimizer, loss='categorical_crossentropy', metrics=['accuracy'])\n",
        "model.summary()\n"
      ]
    },
    {
      "cell_type": "code",
      "execution_count": null,
      "metadata": {
        "colab": {
          "base_uri": "https://localhost:8080/"
        },
        "id": "gcVLw8JATJFB",
        "outputId": "c3191cd4-36e8-43ce-fefd-d258a6d82047"
      },
      "outputs": [
        {
          "output_type": "stream",
          "name": "stdout",
          "text": [
            "42\n",
            "42\n"
          ]
        }
      ],
      "source": [
        "test_text_inputs = [\"Find cases by R Sharma\", \"Show cases with M Patel\", \"Retrieve cases on 23 july, 2002 with IPC Section 132\", \"Search cases with A Verma, M Prasad where sentence is upheld\", \"Cases by L Yadav\", \"Find statutes where Appeal dismissed\", \"Show statutes on 19 June, 2001\", \"Retrieve statute of case by M Patel\", \"Search statute by S Patel on 23 march, 2001\", \"Fetch statutes by S Patel\",\"Find date where Appeal dismissed\", \"Show date with IPC Section 119\", \"Retrieve date where The order passed by the High Court is set aside with Income Tax Act\", \"Search date with Patents Act by M Brown\", \"Fetch date by J Martin\",\"Show date with B Smith, L WilsoN\", \"Retrieve date where The appeal is allowed and the order passed by the High Court is set aside\", \"Find date The People vs. John Smith\", \"Find author where Appeal dismissed with IPC Section 30\", \"Show author of case with IPC Section 119\", \"Retrieve author of case where The order passed by the High Court is set aside with Income Tax Act\", \"Search author of case based on Patents Act by M Brown\", \"Show author of case with B Smith, L Wilson\", \"Retrieve author of case on 25 September, 2026\", \"Find author of case The People vs. John Smith\", \"Find bench where Appeal dismissed\"  , \"Show bench with IPC Section 119\", \"Retrieve bench where The order passed by the High Court is set aside with Income Tax Act\", \"Search bench based on Patents Act by M Brown\", \"Fetch bench by J Martin\", \"Retrieve bench on 25 September, 2026\", \"Find bench The People vs. John Smith\", \"Find verdict by N Modi\", \"Show verdict with IPC Section 119\", \"Retrieve verdict following where Appeal dismissed with Income Tax Act\", \"Search verdict based on Patents Act by M Brown\", \"Fetch verdict by J Martin\", \"Show verdict with B Smith, L Wilson\", \"Retrieve verdict on 25 September, 2026\", \"Find verdict The People vs. John Smith\", \"Find details for case citing 2018 (4) UJ 789 SC\", \"Find details for case with Agarwal vs. The Commissioner of Taxation\"]\n",
        "test_intents = [\"Retrieve_Case\", \"Retrieve_Case\",\"Retrieve_Case\",\"Retrieve_Case\",\"Retrieve_Case\", \"Retrieve_Statute\", \"Retrieve_Statute\", \"Retrieve_Statute\", \"Retrieve_Statute\", \"Retrieve_Statute\", \"Retrieve_Date\", \"Retrieve_Date\", \"Retrieve_Date\", \"Retrieve_Date\", \"Retrieve_Date\", \"Retrieve_Date\", \"Retrieve_Date\", \"Retrieve_Date\", \"Retrieve_Author\" , \"Retrieve_Author\", \"Retrieve_Author\", \"Retrieve_Author\", \"Retrieve_Author\", \"Retrieve_Author\", \"Retrieve_Author\", \"Retrieve_Bench\", \"Retrieve_Bench\", \"Retrieve_Bench\", \"Retrieve_Bench\", \"Retrieve_Bench\", \"Retrieve_Bench\", \"Retrieve_Bench\", \"Retrieve_Verdict\" , \"Retrieve_Verdict\", \"Retrieve_Verdict\", \"Retrieve_Verdict\", \"Retrieve_Verdict\", \"Retrieve_Verdict\", \"Retrieve_Verdict\", \"Retrieve_Verdict\", \"Retrieve_Alldeets\",\"Retrieve_Alldeets\"]\n",
        "\n",
        "print(len(test_text_inputs))\n",
        "print(len(test_intents))"
      ]
    },
    {
      "cell_type": "code",
      "execution_count": null,
      "metadata": {
        "colab": {
          "base_uri": "https://localhost:8080/"
        },
        "id": "5DOAKuJarlj2",
        "outputId": "a19d3e85-1f7a-4866-9644-e512436f9ad2"
      },
      "outputs": [
        {
          "output_type": "stream",
          "name": "stdout",
          "text": [
            "\u001b[1m2/2\u001b[0m \u001b[32m━━━━━━━━━━━━━━━━━━━━\u001b[0m\u001b[37m\u001b[0m \u001b[1m0s\u001b[0m 24ms/step - accuracy: 0.2103 - loss: 1.9453\n"
          ]
        }
      ],
      "source": [
        "\n",
        "test_sequences = tokenizer.texts_to_sequences(test_text_inputs)\n",
        "test_padded_sequences = pad_sequences(test_sequences,  padding='pre')\n",
        "test_labels = np.array([unique_intents.index(intent) for intent in test_intents])\n",
        "test_labels = tf.keras.utils.to_categorical(test_labels, num_classes=num_classes)\n",
        "loss, accuracy = model.evaluate(test_padded_sequences, test_labels)"
      ]
    },
    {
      "cell_type": "code",
      "source": [
        "from sklearn.metrics import f1_score, recall_score, precision_score\n",
        "pred_labels = model.predict(test_padded_sequences)\n",
        "pred_labels = model.predict(test_padded_sequences)\n",
        "pred_labels = np.argmax(pred_labels, axis=1)\n",
        "\n",
        "# Convert one-hot encoded labels to integer format\n",
        "true_labels = np.argmax(test_labels, axis=1)\n",
        "precision = precision_score(true_labels, pred_labels, average='weighted')\n",
        "recall = recall_score(true_labels, pred_labels, average='weighted')\n",
        "f1 = f1_score(true_labels, pred_labels, average='weighted')\n",
        "\n",
        "print(f'Precision: {precision}')\n",
        "print(f'Recall: {recall}')\n",
        "print(f'F1 Score: {f1}')\n"
      ],
      "metadata": {
        "colab": {
          "base_uri": "https://localhost:8080/"
        },
        "id": "e2LZvt7f3xhi",
        "outputId": "8a5a628b-a14e-46ed-bbbd-5a48479ca52e"
      },
      "execution_count": null,
      "outputs": [
        {
          "output_type": "stream",
          "name": "stdout",
          "text": [
            "\u001b[1m2/2\u001b[0m \u001b[32m━━━━━━━━━━━━━━━━━━━━\u001b[0m\u001b[37m\u001b[0m \u001b[1m0s\u001b[0m 61ms/step\n",
            "\u001b[1m2/2\u001b[0m \u001b[32m━━━━━━━━━━━━━━━━━━━━\u001b[0m\u001b[37m\u001b[0m \u001b[1m0s\u001b[0m 43ms/step \n",
            "Precision: 0.14367413632119513\n",
            "Recall: 0.19047619047619047\n",
            "F1 Score: 0.13522126022126021\n"
          ]
        }
      ]
    },
    {
      "cell_type": "code",
      "execution_count": null,
      "metadata": {
        "id": "QFOFR4fXoPf0"
      },
      "outputs": [],
      "source": [
        "def response(sentence):\n",
        "\tsent_tokens = []\n",
        "\t# Split the input sentence into words\n",
        "\twords = sentence.split()\n",
        "\t# Convert words to their corresponding word indices\n",
        "\tfor word in words:\n",
        "\t\tif word in tokenizer.word_index:\n",
        "\t\t\tsent_tokens.append(tokenizer.word_index[word])\n",
        "\t\telse:\n",
        "\t\t\t# Handle unknown words\n",
        "\t\t\tsent_tokens.append(tokenizer.word_index['<unk>'])\n",
        "\tsent_tokens = tf.expand_dims(sent_tokens, 0)\n",
        "\t#predict numerical category\n",
        "\tpred = model(sent_tokens)\n",
        "\t#category to intent\n",
        "\tpred_class = np.argmax(pred.numpy(), axis=1)\n",
        "\t# random response to that intent\n",
        "\treturn random.choice(\n",
        "\t\tresponse_for_intent[index_to_intent[pred_class[0]]]), index_to_intent[pred_class[0]]\n"
      ]
    },
    {
      "cell_type": "code",
      "execution_count": null,
      "metadata": {
        "colab": {
          "base_uri": "https://localhost:8080/"
        },
        "id": "ZJvfORkvoQiD",
        "outputId": "7143c8e8-5908-42c2-d111-897162bc2dc6"
      },
      "outputs": [
        {
          "name": "stdout",
          "output_type": "stream",
          "text": [
            "Note: Enter 'quit' to break the loop.\n",
            "You: quit\n"
          ]
        }
      ],
      "source": [
        "print(\"Note: Enter 'quit' to break the loop.\")\n",
        "while True:\n",
        "\tquery = input('You: ')\n",
        "\tif query.lower() == 'quit':\n",
        "\t\tbreak\n",
        "\tbot_response, typ = response(query)\n",
        "\tprint('Geek: {} -- TYPE: {}'.format(bot_response, typ))\n",
        "\tprint()\n"
      ]
    }
  ],
  "metadata": {
    "colab": {
      "provenance": []
    },
    "kernelspec": {
      "display_name": "Python 3",
      "name": "python3"
    },
    "language_info": {
      "name": "python"
    }
  },
  "nbformat": 4,
  "nbformat_minor": 0
}